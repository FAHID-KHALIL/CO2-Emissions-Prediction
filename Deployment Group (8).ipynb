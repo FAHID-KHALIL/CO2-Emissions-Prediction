{
 "cells": [
  {
   "cell_type": "markdown",
   "id": "dedd270f",
   "metadata": {},
   "source": [
    "#  Starting The Deployment Of The Models"
   ]
  },
  {
   "cell_type": "code",
   "execution_count": 1,
   "id": "7c10db02",
   "metadata": {},
   "outputs": [],
   "source": [
    "#Importing Libraries\n",
    "import pandas as  pd\n",
    "import pickle\n",
    "from tkinter import *\n",
    "import tkinter as tk\n",
    "import customtkinter\n",
    "from tkinter import messagebox\n",
    "import warnings\n",
    "warnings.filterwarnings(\"ignore\")\n"
   ]
  },
  {
   "cell_type": "markdown",
   "id": "484340a9",
   "metadata": {},
   "source": [
    "#  Forcasting Model Deployment"
   ]
  },
  {
   "cell_type": "code",
   "execution_count": 2,
   "id": "3677c406",
   "metadata": {},
   "outputs": [],
   "source": [
    "#Import  Forcasting Model Using Pickle\n",
    "model = pickle.load(open('arima.pkl', 'rb'))"
   ]
  },
  {
   "cell_type": "code",
   "execution_count": 3,
   "id": "45dee53e",
   "metadata": {},
   "outputs": [],
   "source": [
    "customtkinter.set_appearance_mode(\"dark\")  \n",
    "customtkinter.set_default_color_theme(\"blue\")\n",
    "app = customtkinter.CTk()\n",
    "app.geometry(\"700x500\")\n",
    "app.title(\"CO2 Emission Forcasting App\")\n",
    "\n",
    "#-------------------------------------------------------------------------------------------\n",
    "#functions\n",
    "\n",
    "#Forcast input  and show output function \n",
    "def myfunc(year_entry):\n",
    "    prediction_result=(model.predict(start=year_entry.get(),end=year_entry.get()))\n",
    "    #label_pred=Label(win,text=prediction_result).place(x=260,y=280)\n",
    "    x=str(prediction_result)\n",
    "    x=x.strip(\"Freq: AS-JAN, dtype: float64 \")\n",
    "    x=x.replace(\"-01\",\" \")\n",
    "    y,x=x.split(\"    \")\n",
    "    z=int(year_entry.get())\n",
    "    \n",
    "# if statment to set a limit year  for the Forcasting (2030) \n",
    "    \n",
    "    if z>2030:\n",
    "        msg1=messagebox.showwarning(\"Model Forcasting \",  \"The Limit of Forcasting is 2030\")\n",
    "        return msg1\n",
    "    else:\n",
    "        msg=messagebox.showinfo(\"Model Forcasting \",  f'CO2 Emission in {y} is{x}')\n",
    "        return msg\n",
    "    \n",
    "    \n",
    "# clear the entry box text function \n",
    "def clear(year_entry):\n",
    "    year_entry.delete(0, \"end\")  \n",
    "    \n",
    "#------------------------------------------------------------------------------------------------------\n",
    "\n",
    "#frame   \n",
    "frame_1 = customtkinter.CTkFrame(master=app)\n",
    "frame_1.pack(pady=20, padx=60, fill=\"both\", expand=True)\n",
    " \n",
    "#---------------------------------------------------------------------------------------------------    \n",
    "#entries\n",
    "\n",
    "year_entry = customtkinter.CTkEntry(master=frame_1, placeholder_text=\"Enter Year\")\n",
    "year_entry.pack(pady=10, padx=10)\n",
    "\n",
    "\n",
    "#------------------------------------------------------------------------------------------------------\n",
    "#buttons\n",
    "\n",
    "#sumbit button \n",
    "Sumbit = customtkinter.CTkButton(text=\"Sumbit\",master=frame_1, command=lambda:myfunc(year_entry))\n",
    "Sumbit.pack(pady=10, padx=10)\n",
    "\n",
    "#clear button\n",
    "Clear = customtkinter.CTkButton(text=\"Clear\",master=frame_1, command=lambda:clear(year_entry))\n",
    "Clear.pack(pady=10, padx=10)\n",
    "\n",
    "app.mainloop()"
   ]
  }
 ],
 "metadata": {
  "kernelspec": {
   "display_name": "Python 3 (ipykernel)",
   "language": "python",
   "name": "python3"
  },
  "language_info": {
   "codemirror_mode": {
    "name": "ipython",
    "version": 3
   },
   "file_extension": ".py",
   "mimetype": "text/x-python",
   "name": "python",
   "nbconvert_exporter": "python",
   "pygments_lexer": "ipython3",
   "version": "3.9.13"
  }
 },
 "nbformat": 4,
 "nbformat_minor": 5
}
